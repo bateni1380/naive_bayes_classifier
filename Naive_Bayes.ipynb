{
 "cells": [
  {
   "cell_type": "code",
   "execution_count": 33,
   "metadata": {
    "id": "_fADt8EfOQas"
   },
   "outputs": [],
   "source": [
    "from sklearn.naive_bayes import MultinomialNB\n",
    "from sklearn.metrics import classification_report, confusion_matrix, accuracy_score"
   ]
  },
  {
   "cell_type": "code",
   "execution_count": 40,
   "metadata": {
    "colab": {
     "base_uri": "https://localhost:8080/"
    },
    "id": "1KVb5YkTRxbH",
    "outputId": "34bd04b5-0539-4a67-decd-4a73cbae81a7"
   },
   "outputs": [
    {
     "data": {
      "text/plain": [
       "MultinomialNB()"
      ]
     },
     "execution_count": 40,
     "metadata": {},
     "output_type": "execute_result"
    }
   ],
   "source": [
    "mnb = MultinomialNB()\n",
    "mnb.fit(x_train,y_train)\n",
    "y_predict = myNB.predict(x_test)"
   ]
  },
  {
   "cell_type": "code",
   "execution_count": 42,
   "metadata": {
    "colab": {
     "base_uri": "https://localhost:8080/"
    },
    "id": "dqVRo_9cR1UB",
    "outputId": "91fade46-9687-4d17-8678-67d74eb70ef1"
   },
   "outputs": [
    {
     "name": "stdout",
     "output_type": "stream",
     "text": [
      "              precision    recall  f1-score   support\n",
      "\n",
      "       False       0.93      0.97      0.95       200\n",
      "        True       0.97      0.93      0.95       200\n",
      "\n",
      "    accuracy                           0.95       400\n",
      "   macro avg       0.95      0.95      0.95       400\n",
      "weighted avg       0.95      0.95      0.95       400\n",
      "\n"
     ]
    }
   ],
   "source": [
    "\"\"\"Show metrics and score!\"\"\"\n",
    "print(classification_report(y_test, y_predict))"
   ]
  },
  {
   "cell_type": "markdown",
   "metadata": {
    "id": "4T_yx4pSNBbK"
   },
   "source": [
    "### Naive bayes model"
   ]
  },
  {
   "cell_type": "code",
   "execution_count": 45,
   "metadata": {
    "id": "VDLFHZYZLWdr"
   },
   "outputs": [],
   "source": [
    "#Build your naive bayes classifier!\n",
    "class MyNB:\n",
    "    def __init__(self):\n",
    "        self.ny = {}\n",
    "        self.py = {}\n",
    "        self.pfy = []\n",
    "        self.pf = []\n",
    "        \n",
    "    def fit(self,x_train,y_train):\n",
    "        \n",
    "        for i in y_train:\n",
    "            if i not in self.ny:\n",
    "                self.ny[i] = 0\n",
    "            self.ny[i] += 1\n",
    "        s = sum(self.ny.values())\n",
    "        self.py = {i:self.ny[i]/s for i in self.ny}\n",
    "        \n",
    "        self.pfy = [{} for i in range(len(x_train[0]))]\n",
    "        for i in range(len(x_train)):\n",
    "            for j in range(len(x_train[i])):\n",
    "                if y_train[i] not in self.pfy[j]:\n",
    "                    self.pfy[j][y_train[i]] = 1 #Laplace Smoothing\n",
    "                if x_train[i][j]==1:\n",
    "                    self.pfy[j][y_train[i]] += 1\n",
    "        s = sum(sum(self.pfy[i].values()) for i in range(len(self.pfy)))\n",
    "        for i in range(len(self.pfy)):\n",
    "            self.pfy[i] = {j:self.pfy[i][j]/(self.ny[j]+len(self.py)) for j in self.pfy[i]}\n",
    "\n",
    "        self.pf = [0 for i in range(len(x_train[0]))]\n",
    "        for i in range(len(x_train[0])):\n",
    "            for j in self.py.keys():\n",
    "                self.pf[i] += self.pfy[i][j]*self.py[j]\n",
    "            \n",
    "        \n",
    "    def predict(self,x_test):\n",
    "        y = []\n",
    "        for xi in x_test:\n",
    "            y_vector = {}\n",
    "            for yi in self.py.keys():\n",
    "                y_vector[yi] = np.log(self.py[yi])\n",
    "                for fi in range(len(xi)):\n",
    "                    if xi[fi]==1:\n",
    "                        y_vector[yi] += np.log(self.pfy[fi][yi])\n",
    "                    else:\n",
    "                        y_vector[yi] += np.log(1-self.pfy[fi][yi])\n",
    "                    y_vector[yi] -= np.log(self.pf[fi])\n",
    "            mx = max(y_vector.values())\n",
    "            yi = [i for i in y_vector if y_vector[i]==mx][0]\n",
    "            y.append(yi)\n",
    "        return y\n"
   ]
  },
  {
   "cell_type": "code",
   "execution_count": 46,
   "metadata": {
    "id": "yY8f_1_rFJSA"
   },
   "outputs": [],
   "source": [
    "myNB = MyNB()\n",
    "myNB.fit(x_train,y_train)\n",
    "y_predict = myNB.predict(test_data)"
   ]
  },
  {
   "cell_type": "markdown",
   "metadata": {
    "id": "H2dZ-dvANM1n"
   },
   "source": [
    "Result"
   ]
  },
  {
   "cell_type": "code",
   "execution_count": 47,
   "metadata": {
    "colab": {
     "base_uri": "https://localhost:8080/"
    },
    "id": "dSBVMGRAMUX-",
    "outputId": "ffc3c198-b838-4988-c41a-d6194388a441"
   },
   "outputs": [
    {
     "name": "stdout",
     "output_type": "stream",
     "text": [
      "              precision    recall  f1-score   support\n",
      "\n",
      "       False       0.77      0.98      0.86       200\n",
      "        True       0.98      0.70      0.82       200\n",
      "\n",
      "    accuracy                           0.84       400\n",
      "   macro avg       0.87      0.84      0.84       400\n",
      "weighted avg       0.87      0.84      0.84       400\n",
      "\n"
     ]
    }
   ],
   "source": [
    "\"\"\"Show metrics and score!\"\"\"\n",
    "print(classification_report(y_test, y_predict))"
   ]
  }
 ],
 "metadata": {
  "colab": {
   "collapsed_sections": [],
   "name": "Naive Bayes.ipynb",
   "provenance": []
  },
  "kernelspec": {
   "display_name": "Python 3 (ipykernel)",
   "language": "python",
   "name": "python3"
  },
  "language_info": {
   "codemirror_mode": {
    "name": "ipython",
    "version": 3
   },
   "file_extension": ".py",
   "mimetype": "text/x-python",
   "name": "python",
   "nbconvert_exporter": "python",
   "pygments_lexer": "ipython3",
   "version": "3.9.7"
  }
 },
 "nbformat": 4,
 "nbformat_minor": 1
}
